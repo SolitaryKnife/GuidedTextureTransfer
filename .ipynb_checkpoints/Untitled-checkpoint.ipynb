{
 "cells": [
  {
   "cell_type": "code",
   "execution_count": 1,
   "metadata": {},
   "outputs": [],
   "source": [
    "import utils as U\n",
    "import dataset.cufed5 as c5\n",
    "\n",
    "from tqdm import tqdm\n",
    "from PIL import Image\n",
    "\n",
    "import torch\n",
    "import torch.nn.functional as F\n",
    "\n",
    "import torchvision.transforms as T\n",
    "import torchvision.transforms.functional as TF\n",
    "\n",
    "import images as I\n",
    "\n",
    "import msoj\n",
    "import refsr\n",
    "\n",
    "import metrics as M\n",
    "\n"
   ]
  },
  {
   "cell_type": "code",
   "execution_count": 2,
   "metadata": {},
   "outputs": [
    {
     "name": "stderr",
     "output_type": "stream",
     "text": [
      "\r",
      "  0%|                                                                                                                                                                  | 0/126 [00:00<?, ?it/s]"
     ]
    },
    {
     "name": "stdout",
     "output_type": "stream",
     "text": [
      "tensor(0.2610, device='cuda:0') tensor(0.2614, device='cuda:0')\n",
      "torch.Size([1, 3, 120, 120]) torch.Size([1, 3, 120, 120])\n",
      "tensor(0.2808, device='cuda:0') tensor(0.2794, device='cuda:0')\n",
      "torch.Size([1, 3, 120, 120]) torch.Size([1, 3, 120, 120])\n",
      "tensor(0.2780, device='cuda:0') tensor(0.2784, device='cuda:0')\n",
      "torch.Size([1, 3, 120, 120]) torch.Size([1, 3, 120, 120])\n",
      "tensor(0.2117, device='cuda:0') tensor(0.2106, device='cuda:0')\n",
      "torch.Size([1, 3, 120, 120]) torch.Size([1, 3, 120, 120])\n",
      "tensor(0.2001, device='cuda:0') tensor(0.1996, device='cuda:0')\n",
      "torch.Size([1, 3, 120, 120]) torch.Size([1, 3, 120, 120])\n",
      "tensor(0.3681, device='cuda:0') tensor(0.3710, device='cuda:0')\n",
      "torch.Size([1, 3, 120, 120]) torch.Size([1, 3, 120, 120])\n",
      "tensor(0.3492, device='cuda:0') tensor(0.3512, device='cuda:0')\n",
      "torch.Size([1, 3, 120, 120]) torch.Size([1, 3, 120, 120])\n",
      "tensor(0.3121, device='cuda:0') tensor(0.3168, device='cuda:0')\n",
      "torch.Size([1, 3, 120, 120]) torch.Size([1, 3, 120, 120])\n",
      "BASE 0.5650530122220516 20.753165245056152\n",
      "NTT 0.6051054671406746 21.998811960220337\n"
     ]
    },
    {
     "name": "stderr",
     "output_type": "stream",
     "text": [
      "\r",
      "  1%|█▏                                                                                                                                                        | 1/126 [00:07<16:38,  7.99s/it]"
     ]
    },
    {
     "name": "stdout",
     "output_type": "stream",
     "text": [
      "tensor(0.7155, device='cuda:0') tensor(0.7188, device='cuda:0')\n",
      "torch.Size([1, 3, 120, 120]) torch.Size([1, 3, 120, 120])\n",
      "tensor(0.8015, device='cuda:0') tensor(0.8053, device='cuda:0')\n",
      "torch.Size([1, 3, 120, 120]) torch.Size([1, 3, 120, 120])\n",
      "tensor(0.8289, device='cuda:0') tensor(0.8354, device='cuda:0')\n",
      "torch.Size([1, 3, 120, 120]) torch.Size([1, 3, 120, 120])\n",
      "tensor(0.7746, device='cuda:0') tensor(0.7801, device='cuda:0')\n",
      "torch.Size([1, 3, 120, 120]) torch.Size([1, 3, 120, 120])\n",
      "tensor(0.4493, device='cuda:0') tensor(0.4507, device='cuda:0')\n",
      "torch.Size([1, 3, 120, 120]) torch.Size([1, 3, 120, 120])\n",
      "tensor(0.4839, device='cuda:0') tensor(0.4830, device='cuda:0')\n",
      "torch.Size([1, 3, 120, 120]) torch.Size([1, 3, 120, 120])\n",
      "tensor(0.4955, device='cuda:0') tensor(0.4938, device='cuda:0')\n",
      "torch.Size([1, 3, 120, 120]) torch.Size([1, 3, 120, 120])\n",
      "tensor(0.4817, device='cuda:0') tensor(0.4816, device='cuda:0')\n",
      "torch.Size([1, 3, 120, 120]) torch.Size([1, 3, 120, 120])\n",
      "BASE 0.5897363442927599 20.957351326942444\n",
      "NTT 0.6098654624074697 21.534221649169922\n"
     ]
    },
    {
     "name": "stderr",
     "output_type": "stream",
     "text": [
      "\r",
      "  2%|██▍                                                                                                                                                       | 2/126 [00:14<15:44,  7.62s/it]"
     ]
    },
    {
     "name": "stdout",
     "output_type": "stream",
     "text": [
      "tensor(0.2966, device='cuda:0') tensor(0.2927, device='cuda:0')\n",
      "torch.Size([1, 3, 120, 120]) torch.Size([1, 3, 120, 120])\n",
      "tensor(0.3014, device='cuda:0') tensor(0.2966, device='cuda:0')\n",
      "torch.Size([1, 3, 120, 120]) torch.Size([1, 3, 120, 120])\n",
      "tensor(0.3195, device='cuda:0') tensor(0.3176, device='cuda:0')\n",
      "torch.Size([1, 3, 120, 120]) torch.Size([1, 3, 120, 120])\n",
      "tensor(0.3602, device='cuda:0') tensor(0.3615, device='cuda:0')\n",
      "torch.Size([1, 3, 120, 120]) torch.Size([1, 3, 120, 120])\n",
      "tensor(0.6239, device='cuda:0') tensor(0.6236, device='cuda:0')\n",
      "torch.Size([1, 3, 120, 120]) torch.Size([1, 3, 120, 120])\n",
      "tensor(0.6554, device='cuda:0') tensor(0.6578, device='cuda:0')\n",
      "torch.Size([1, 3, 120, 120]) torch.Size([1, 3, 120, 120])\n",
      "tensor(0.5457, device='cuda:0') tensor(0.5478, device='cuda:0')\n",
      "torch.Size([1, 3, 120, 120]) torch.Size([1, 3, 120, 120])\n",
      "tensor(0.5699, device='cuda:0') tensor(0.5729, device='cuda:0')\n",
      "torch.Size([1, 3, 120, 120]) torch.Size([1, 3, 120, 120])\n",
      "BASE 0.6032237447798252 20.76171851158142\n",
      "NTT 0.6324677728116512 21.52523668607076\n"
     ]
    },
    {
     "name": "stderr",
     "output_type": "stream",
     "text": [
      "\r",
      "  2%|███▋                                                                                                                                                      | 3/126 [00:21<14:57,  7.29s/it]"
     ]
    },
    {
     "name": "stdout",
     "output_type": "stream",
     "text": [
      "tensor(0.3536, device='cuda:0') tensor(0.3541, device='cuda:0')\n",
      "torch.Size([1, 3, 120, 120]) torch.Size([1, 3, 120, 120])\n",
      "tensor(0.3662, device='cuda:0') tensor(0.3660, device='cuda:0')\n",
      "torch.Size([1, 3, 120, 120]) torch.Size([1, 3, 120, 120])\n",
      "tensor(0.3476, device='cuda:0') tensor(0.3462, device='cuda:0')\n",
      "torch.Size([1, 3, 120, 120]) torch.Size([1, 3, 120, 120])\n",
      "tensor(0.3353, device='cuda:0') tensor(0.3360, device='cuda:0')\n",
      "torch.Size([1, 3, 120, 120]) torch.Size([1, 3, 120, 120])\n",
      "tensor(0.3608, device='cuda:0') tensor(0.3618, device='cuda:0')\n",
      "torch.Size([1, 3, 120, 120]) torch.Size([1, 3, 120, 120])\n",
      "tensor(0.3784, device='cuda:0') tensor(0.3762, device='cuda:0')\n",
      "torch.Size([1, 3, 120, 120]) torch.Size([1, 3, 120, 120])\n",
      "tensor(0.3787, device='cuda:0') tensor(0.3820, device='cuda:0')\n",
      "torch.Size([1, 3, 120, 120]) torch.Size([1, 3, 120, 120])\n",
      "tensor(0.2650, device='cuda:0') tensor(0.2660, device='cuda:0')\n",
      "torch.Size([1, 3, 120, 120]) torch.Size([1, 3, 120, 120])\n",
      "tensor(0.4288, device='cuda:0') tensor(0.4283, device='cuda:0')\n",
      "torch.Size([1, 3, 120, 120]) torch.Size([1, 3, 120, 120])\n",
      "tensor(0.5027, device='cuda:0') tensor(0.5018, device='cuda:0')\n",
      "torch.Size([1, 3, 120, 120]) torch.Size([1, 3, 120, 120])\n",
      "tensor(0.3168, device='cuda:0') tensor(0.3173, device='cuda:0')\n",
      "torch.Size([1, 3, 120, 120]) torch.Size([1, 3, 120, 120])\n",
      "tensor(0.5092, device='cuda:0') tensor(0.5089, device='cuda:0')\n",
      "torch.Size([1, 3, 120, 120]) torch.Size([1, 3, 120, 120])\n",
      "BASE 0.5851529447568787 21.741821977827286\n",
      "NTT 0.6087160731355349 22.50781159930759\n"
     ]
    },
    {
     "name": "stderr",
     "output_type": "stream",
     "text": [
      "\r",
      "  3%|████▉                                                                                                                                                     | 4/126 [00:32<17:21,  8.54s/it]"
     ]
    },
    {
     "name": "stdout",
     "output_type": "stream",
     "text": [
      "tensor(0.6715, device='cuda:0') tensor(0.6735, device='cuda:0')\n",
      "torch.Size([1, 3, 120, 120]) torch.Size([1, 3, 120, 120])\n",
      "tensor(0.7188, device='cuda:0') tensor(0.7166, device='cuda:0')\n",
      "torch.Size([1, 3, 120, 120]) torch.Size([1, 3, 120, 120])\n",
      "tensor(0.6218, device='cuda:0') tensor(0.6175, device='cuda:0')\n",
      "torch.Size([1, 3, 120, 120]) torch.Size([1, 3, 120, 120])\n",
      "tensor(0.5463, device='cuda:0') tensor(0.5431, device='cuda:0')\n",
      "torch.Size([1, 3, 120, 120]) torch.Size([1, 3, 120, 120])\n",
      "tensor(0.1844, device='cuda:0') tensor(0.1836, device='cuda:0')\n",
      "torch.Size([1, 3, 120, 120]) torch.Size([1, 3, 120, 120])\n",
      "tensor(0.3135, device='cuda:0') tensor(0.3137, device='cuda:0')\n",
      "torch.Size([1, 3, 120, 120]) torch.Size([1, 3, 120, 120])\n",
      "tensor(0.3242, device='cuda:0') tensor(0.3254, device='cuda:0')\n",
      "torch.Size([1, 3, 120, 120]) torch.Size([1, 3, 120, 120])\n",
      "tensor(0.2077, device='cuda:0') tensor(0.2065, device='cuda:0')\n",
      "torch.Size([1, 3, 120, 120]) torch.Size([1, 3, 120, 120])\n"
     ]
    },
    {
     "ename": "KeyboardInterrupt",
     "evalue": "",
     "output_type": "error",
     "traceback": [
      "\u001b[1;31m---------------------------------------------------------------------------\u001b[0m",
      "\u001b[1;31mKeyboardInterrupt\u001b[0m                         Traceback (most recent call last)",
      "\u001b[1;32m<ipython-input-2-3700c9d6fb10>\u001b[0m in \u001b[0;36m<module>\u001b[1;34m\u001b[0m\n\u001b[0;32m     64\u001b[0m         \u001b[1;32mtry\u001b[0m\u001b[1;33m:\u001b[0m\u001b[1;33m\u001b[0m\u001b[1;33m\u001b[0m\u001b[0m\n\u001b[0;32m     65\u001b[0m             \u001b[0mx\u001b[0m\u001b[1;33m,\u001b[0m \u001b[0my\u001b[0m \u001b[1;33m=\u001b[0m \u001b[0mlr\u001b[0m\u001b[1;33m[\u001b[0m\u001b[0mj\u001b[0m\u001b[1;33m]\u001b[0m\u001b[1;33m,\u001b[0m \u001b[0mhr\u001b[0m\u001b[1;33m[\u001b[0m\u001b[0mj\u001b[0m\u001b[1;33m]\u001b[0m\u001b[1;33m\u001b[0m\u001b[1;33m\u001b[0m\u001b[0m\n\u001b[1;32m---> 66\u001b[1;33m             \u001b[0my2\u001b[0m \u001b[1;33m=\u001b[0m \u001b[0mmethod\u001b[0m\u001b[1;33m.\u001b[0m\u001b[0mupscale_with_ref\u001b[0m\u001b[1;33m(\u001b[0m\u001b[0mx\u001b[0m\u001b[1;33m,\u001b[0m \u001b[0mrefs\u001b[0m\u001b[1;33m)\u001b[0m\u001b[1;33m\u001b[0m\u001b[1;33m\u001b[0m\u001b[0m\n\u001b[0m\u001b[0;32m     67\u001b[0m \u001b[1;33m\u001b[0m\u001b[0m\n\u001b[0;32m     68\u001b[0m             \u001b[0my\u001b[0m\u001b[1;33m,\u001b[0m \u001b[0my2\u001b[0m \u001b[1;33m=\u001b[0m \u001b[0my\u001b[0m \u001b[1;33m/\u001b[0m \u001b[1;36m255\u001b[0m\u001b[1;33m,\u001b[0m \u001b[0my2\u001b[0m \u001b[1;33m/\u001b[0m \u001b[1;36m255\u001b[0m\u001b[1;33m\u001b[0m\u001b[1;33m\u001b[0m\u001b[0m\n",
      "\u001b[1;32mD:\\Josm\\Workspace\\ComputerVision\\GuidedTextureTransfer\\refsr.py\u001b[0m in \u001b[0;36mupscale_with_ref\u001b[1;34m(self, x, refs)\u001b[0m\n\u001b[0;32m    142\u001b[0m             \u001b[1;32mdel\u001b[0m \u001b[0mref_style\u001b[0m\u001b[1;33m\u001b[0m\u001b[1;33m\u001b[0m\u001b[0m\n\u001b[0;32m    143\u001b[0m \u001b[1;33m\u001b[0m\u001b[0m\n\u001b[1;32m--> 144\u001b[1;33m             \u001b[0mfeatures\u001b[0m\u001b[1;33m[\u001b[0m\u001b[0mi\u001b[0m\u001b[1;33m]\u001b[0m\u001b[1;33m,\u001b[0m \u001b[0m_\u001b[0m \u001b[1;33m=\u001b[0m \u001b[0mX\u001b[0m\u001b[1;33m.\u001b[0m\u001b[0mstitch\u001b[0m\u001b[1;33m(\u001b[0m\u001b[0mcondition_size\u001b[0m\u001b[1;33m=\u001b[0m\u001b[1;33m(\u001b[0m\u001b[0mH\u001b[0m\u001b[1;33m,\u001b[0m \u001b[0mW\u001b[0m\u001b[1;33m)\u001b[0m\u001b[1;33m,\u001b[0m \u001b[0mratio\u001b[0m\u001b[1;33m=\u001b[0m\u001b[0mratios\u001b[0m\u001b[1;33m[\u001b[0m\u001b[0mi\u001b[0m\u001b[1;33m]\u001b[0m\u001b[1;33m,\u001b[0m \u001b[0maddr\u001b[0m\u001b[1;33m=\u001b[0m\u001b[0mmaxidx\u001b[0m\u001b[1;33m,\u001b[0m \u001b[0mrefs\u001b[0m\u001b[1;33m=\u001b[0m\u001b[0mrefs_style\u001b[0m\u001b[1;33m,\u001b[0m \u001b[0mpatch_size\u001b[0m\u001b[1;33m=\u001b[0m\u001b[0mself\u001b[0m\u001b[1;33m.\u001b[0m\u001b[0mpatch_size\u001b[0m\u001b[1;33m,\u001b[0m \u001b[0mstride\u001b[0m\u001b[1;33m=\u001b[0m\u001b[0mself\u001b[0m\u001b[1;33m.\u001b[0m\u001b[0mstride\u001b[0m\u001b[1;33m)\u001b[0m\u001b[1;33m\u001b[0m\u001b[1;33m\u001b[0m\u001b[0m\n\u001b[0m\u001b[0;32m    145\u001b[0m             \u001b[1;32mif\u001b[0m \u001b[0mfeatures\u001b[0m\u001b[1;33m[\u001b[0m\u001b[0mi\u001b[0m\u001b[1;33m]\u001b[0m\u001b[1;33m.\u001b[0m\u001b[0mdim\u001b[0m\u001b[1;33m(\u001b[0m\u001b[1;33m)\u001b[0m \u001b[1;33m==\u001b[0m \u001b[1;36m3\u001b[0m\u001b[1;33m:\u001b[0m\u001b[1;33m\u001b[0m\u001b[1;33m\u001b[0m\u001b[0m\n\u001b[0;32m    146\u001b[0m                 \u001b[0mfeatures\u001b[0m\u001b[1;33m[\u001b[0m\u001b[0mi\u001b[0m\u001b[1;33m]\u001b[0m \u001b[1;33m=\u001b[0m \u001b[0mfeatures\u001b[0m\u001b[1;33m[\u001b[0m\u001b[0mi\u001b[0m\u001b[1;33m]\u001b[0m\u001b[1;33m.\u001b[0m\u001b[0munsqueeze\u001b[0m\u001b[1;33m(\u001b[0m\u001b[1;36m0\u001b[0m\u001b[1;33m)\u001b[0m\u001b[1;33m\u001b[0m\u001b[1;33m\u001b[0m\u001b[0m\n",
      "\u001b[1;32mD:\\Josm\\Workspace\\ComputerVision\\GuidedTextureTransfer\\swapper.py\u001b[0m in \u001b[0;36mstitch\u001b[1;34m(condition_size, ratio, addr, refs, patch_size, stride, patch_postprocess)\u001b[0m\n\u001b[0;32m    150\u001b[0m \u001b[1;33m\u001b[0m\u001b[0m\n\u001b[0;32m    151\u001b[0m             \u001b[1;32mtry\u001b[0m\u001b[1;33m:\u001b[0m\u001b[1;33m\u001b[0m\u001b[1;33m\u001b[0m\u001b[0m\n\u001b[1;32m--> 152\u001b[1;33m                 \u001b[0mpatch\u001b[0m \u001b[1;33m=\u001b[0m \u001b[0mpatches\u001b[0m\u001b[1;33m[\u001b[0m\u001b[0maddr\u001b[0m\u001b[1;33m[\u001b[0m\u001b[0mi\u001b[0m\u001b[1;33m,\u001b[0m \u001b[0mj\u001b[0m\u001b[1;33m]\u001b[0m\u001b[1;33m,\u001b[0m \u001b[1;33m...\u001b[0m\u001b[1;33m]\u001b[0m\u001b[1;33m\u001b[0m\u001b[1;33m\u001b[0m\u001b[0m\n\u001b[0m\u001b[0;32m    153\u001b[0m                 \u001b[0moutputs\u001b[0m\u001b[1;33m[\u001b[0m\u001b[1;33m:\u001b[0m\u001b[1;33m,\u001b[0m \u001b[0mi_start\u001b[0m\u001b[1;33m:\u001b[0m\u001b[0mi_end\u001b[0m\u001b[1;33m,\u001b[0m \u001b[0mj_start\u001b[0m\u001b[1;33m:\u001b[0m\u001b[0mj_end\u001b[0m\u001b[1;33m]\u001b[0m \u001b[1;33m+=\u001b[0m \u001b[0mpatch\u001b[0m\u001b[1;33m\u001b[0m\u001b[1;33m\u001b[0m\u001b[0m\n\u001b[0;32m    154\u001b[0m                 \u001b[0mcounts\u001b[0m\u001b[1;33m[\u001b[0m\u001b[0mi_start\u001b[0m\u001b[1;33m:\u001b[0m\u001b[0mi_end\u001b[0m\u001b[1;33m,\u001b[0m \u001b[0mj_start\u001b[0m\u001b[1;33m:\u001b[0m\u001b[0mj_end\u001b[0m\u001b[1;33m]\u001b[0m \u001b[1;33m+=\u001b[0m \u001b[1;36m1.0\u001b[0m\u001b[1;33m\u001b[0m\u001b[1;33m\u001b[0m\u001b[0m\n",
      "\u001b[1;31mKeyboardInterrupt\u001b[0m: "
     ]
    }
   ],
   "source": [
    "\n",
    "pkg = c5.Package(\"test/raw/CUFED5\")\n",
    "\n",
    "def upscale_bicubic(t):\n",
    "    if t.dim() == 3:\n",
    "        t = t.unsqueeze(0)\n",
    "    assert t.dim() == 4\n",
    "    assert t.size(0) == 1\n",
    "    \n",
    "    return F.interpolate(t, scale_factor=4, mode=\"bicubic\", align_corners=True)\n",
    "    \n",
    "is_cuda=True\n",
    "refsr_model = refsr.get_default_sr_model(cuda=is_cuda)\n",
    "vgg_model = refsr.get_default_vgg_model(cuda=is_cuda)\n",
    "sr_model = upscale_bicubic\n",
    "method = refsr.RefSR(sr_model, refsr_model, vgg_model)\n",
    "\n",
    "ssim_base = []\n",
    "psnr_base = []\n",
    "ssim = []\n",
    "psnr = []\n",
    "for i in tqdm(range(len(pkg))):\n",
    "    hr = U.data.ImageDataset(f\"data/test/proc/CUFED5/{i:03}/hr/*.png\", T.Compose([\n",
    "        T.ToTensor(),\n",
    "        T.Lambda(lambda x: x.cuda().unsqueeze(0) * 255)\n",
    "    ]))\n",
    "    lr = U.data.ImageDataset(f\"data/test/proc/CUFED5/{i:03}/lr/*.png\", T.Compose([\n",
    "        T.ToTensor(),\n",
    "        T.Lambda(lambda x: x.cuda().unsqueeze(0) * 255)\n",
    "    ]))\n",
    "    \n",
    "    for j in range(len(hr)):\n",
    "        try:\n",
    "            x, y = lr[j], hr[j]\n",
    "            y2 = sr_model(x)\n",
    "\n",
    "            y, y2 = y / 255, y2 / 255\n",
    "            \n",
    "            psnr_base.append(M.pytorch_psnr(y, y2).item())\n",
    "            ssim_base.append(M.pytorch_ssim(y, y2).item())\n",
    "            \n",
    "#             del x, y, y2\n",
    "        except AssertionError as ae:\n",
    "            print(f\"BASE: There was an assertion error [{i}, {j}]\")\n",
    "            print(ae)\n",
    "        except Exception as e:\n",
    "            print(f\"BASE: There was an error [{i}, {j}]\")\n",
    "            raise e\n",
    "\n",
    "    refs = U.data.ImageDataset(f\"data/test/proc/CUFED5/{i:03}/s1/*.png\", T.Compose([\n",
    "        T.ToTensor(),\n",
    "        T.Lambda(lambda x: x.cuda().unsqueeze(0) * 255)\n",
    "    ]))\n",
    "    refs = list(refs)\n",
    "\n",
    "    for j in range(len(hr)):\n",
    "        try:\n",
    "            x, y = lr[j], hr[j]\n",
    "            y2 = method.upscale_with_ref(x, refs)\n",
    "\n",
    "            y, y2 = y / 255, y2 / 255\n",
    "            \n",
    "            psnr.append(M.pytorch_psnr(y, y2).item())\n",
    "            ssim.append(M.pytorch_ssim(y, y2).item())\n",
    "\n",
    "            del x, y, y2\n",
    "        except AssertionError as ae:\n",
    "            print(f\"NTT: There was an assertion error [{i}, {j}]\")\n",
    "            print(ae)\n",
    "        except Exception as e:\n",
    "            print(f\"NTT: There was an error [{i}, {j}]\")\n",
    "            raise e\n",
    "    del refs\n",
    "    \n",
    "    print(\"BASE\", sum(ssim_base) / len(ssim_base), sum(psnr_base) / len(psnr_base))\n",
    "    print(\"NTT\", sum(ssim) / len(ssim), sum(psnr) / len(psnr))\n"
   ]
  },
  {
   "cell_type": "code",
   "execution_count": null,
   "metadata": {},
   "outputs": [],
   "source": [
    "M.pytorch_psnr(y, y2)"
   ]
  },
  {
   "cell_type": "code",
   "execution_count": null,
   "metadata": {},
   "outputs": [],
   "source": [
    "I.to_pil_image(y2 * 127)[0][0]"
   ]
  }
 ],
 "metadata": {
  "kernelspec": {
   "display_name": "Python 3",
   "language": "python",
   "name": "python3"
  },
  "language_info": {
   "codemirror_mode": {
    "name": "ipython",
    "version": 3
   },
   "file_extension": ".py",
   "mimetype": "text/x-python",
   "name": "python",
   "nbconvert_exporter": "python",
   "pygments_lexer": "ipython3",
   "version": "3.6.8"
  },
  "varInspector": {
   "cols": {
    "lenName": 16,
    "lenType": 16,
    "lenVar": 40
   },
   "kernels_config": {
    "python": {
     "delete_cmd_postfix": "",
     "delete_cmd_prefix": "del ",
     "library": "var_list.py",
     "varRefreshCmd": "print(var_dic_list())"
    },
    "r": {
     "delete_cmd_postfix": ") ",
     "delete_cmd_prefix": "rm(",
     "library": "var_list.r",
     "varRefreshCmd": "cat(var_dic_list()) "
    }
   },
   "types_to_exclude": [
    "module",
    "function",
    "builtin_function_or_method",
    "instance",
    "_Feature"
   ],
   "window_display": false
  }
 },
 "nbformat": 4,
 "nbformat_minor": 2
}
