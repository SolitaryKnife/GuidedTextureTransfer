{
 "cells": [
  {
   "cell_type": "code",
   "execution_count": 1,
   "metadata": {},
   "outputs": [
    {
     "name": "stdout",
     "output_type": "stream",
     "text": [
      "SimLevel 1\n"
     ]
    },
    {
     "name": "stderr",
     "output_type": "stream",
     "text": [
      "\r",
      "  0%|                                                                                                                                                                | 0/126 [00:00<?, ?it/s]"
     ]
    },
    {
     "name": "stdout",
     "output_type": "stream",
     "text": [
      "model_name bicub\n",
      "base_model\n",
      "improved_model #1/8\n"
     ]
    },
    {
     "ename": "NameError",
     "evalue": "name 'y_small' is not defined",
     "output_type": "error",
     "traceback": [
      "\u001b[1;31m---------------------------------------------------------------------------\u001b[0m",
      "\u001b[1;31mNameError\u001b[0m                                 Traceback (most recent call last)",
      "\u001b[1;32m<ipython-input-1-61eb0a7c22e0>\u001b[0m in \u001b[0;36m<module>\u001b[1;34m\u001b[0m\n\u001b[0;32m     85\u001b[0m                 \u001b[1;32mexcept\u001b[0m\u001b[1;33m:\u001b[0m\u001b[1;33m\u001b[0m\u001b[1;33m\u001b[0m\u001b[0m\n\u001b[0;32m     86\u001b[0m                     \u001b[1;32mpass\u001b[0m\u001b[1;33m\u001b[0m\u001b[1;33m\u001b[0m\u001b[0m\n\u001b[1;32m---> 87\u001b[1;33m                 \u001b[0mTF\u001b[0m\u001b[1;33m.\u001b[0m\u001b[0mto_pil_image\u001b[0m\u001b[1;33m(\u001b[0m\u001b[0my_small\u001b[0m\u001b[1;33m.\u001b[0m\u001b[0msqueeze\u001b[0m\u001b[1;33m(\u001b[0m\u001b[1;36m0\u001b[0m\u001b[1;33m)\u001b[0m\u001b[1;33m.\u001b[0m\u001b[0mcpu\u001b[0m\u001b[1;33m(\u001b[0m\u001b[1;33m)\u001b[0m \u001b[1;33m/\u001b[0m \u001b[1;36m255\u001b[0m\u001b[1;33m)\u001b[0m\u001b[1;33m.\u001b[0m\u001b[0msave\u001b[0m\u001b[1;33m(\u001b[0m\u001b[0mfpath\u001b[0m\u001b[1;33m)\u001b[0m\u001b[1;33m\u001b[0m\u001b[1;33m\u001b[0m\u001b[0m\n\u001b[0m\u001b[0;32m     88\u001b[0m \u001b[1;33m\u001b[0m\u001b[0m\n\u001b[0;32m     89\u001b[0m                 \u001b[0my_small\u001b[0m \u001b[1;33m=\u001b[0m \u001b[0mF\u001b[0m\u001b[1;33m.\u001b[0m\u001b[0minterpolate\u001b[0m\u001b[1;33m(\u001b[0m\u001b[0my\u001b[0m\u001b[1;33m,\u001b[0m \u001b[0mscale_factor\u001b[0m\u001b[1;33m=\u001b[0m\u001b[1;36m0.25\u001b[0m\u001b[1;33m,\u001b[0m \u001b[0mmode\u001b[0m\u001b[1;33m=\u001b[0m\u001b[1;34m\"bicubic\"\u001b[0m\u001b[1;33m,\u001b[0m \u001b[0malign_corners\u001b[0m\u001b[1;33m=\u001b[0m\u001b[1;32mTrue\u001b[0m\u001b[1;33m)\u001b[0m\u001b[1;33m\u001b[0m\u001b[1;33m\u001b[0m\u001b[0m\n",
      "\u001b[1;31mNameError\u001b[0m: name 'y_small' is not defined"
     ]
    }
   ],
   "source": [
    "import utils as U\n",
    "import dataset.cufed5 as c5\n",
    "\n",
    "from tqdm import tqdm\n",
    "from PIL import Image\n",
    "\n",
    "import torch\n",
    "import torch.nn.functional as F\n",
    "\n",
    "import torchvision.transforms as T\n",
    "import torchvision.transforms.functional as TF\n",
    "\n",
    "import images as I\n",
    "\n",
    "import refsr\n",
    "\n",
    "import metrics as M\n",
    "import patches as P\n",
    "\n",
    "import os\n",
    "\n",
    "\n",
    "is_cuda=True\n",
    "refsr_model = refsr.get_default_sr_model(cuda=is_cuda)\n",
    "vgg_model = refsr.get_default_vgg_model(cuda=is_cuda)\n",
    "method = refsr.RefSR(refsr_model, refsr_model, vgg_model)\n",
    "\n",
    "model_names = [\"bicub\", \"edsr\", \"srgan\"]\n",
    "sim_levels = 5\n",
    "\n",
    "ssim_data = {model_name: [[] for _ in range(sim_levels)] for model_name in model_names}\n",
    "psnr_data = {model_name: [[] for _ in range(sim_levels)] for model_name in model_names}\n",
    "\n",
    "base_ssim_data = {model_name: [[] for _ in range(sim_levels)] for model_name in model_names}\n",
    "base_psnr_data = {model_name: [[] for _ in range(sim_levels)] for model_name in model_names}\n",
    "\n",
    "transform = T.Compose([\n",
    "    T.ToTensor(),\n",
    "    T.Lambda(lambda x: x.cuda().unsqueeze(0) * 255)\n",
    "])\n",
    "\n",
    "for sim_level in range(1,6):\n",
    "    print(\"SimLevel\", sim_level)\n",
    "    \n",
    "    for i in tqdm(range(126)):\n",
    "        hrlist = U.data.ImageDataset(f\"data/test/proc/cufed5/{i:03}/hr/*.png\", transform)\n",
    "        lrlist = U.data.ImageDataset(f\"data/test/proc/cufed5/{i:03}/lr/*.png\", transform)\n",
    "        reflist = list(U.data.ImageDataset(f\"data/test/proc/cufed5/{i:03}/s{sim_level}/*.png\", transform))\n",
    "        \n",
    "        models = {\n",
    "            \"bicub\": U.data.ImageDataset(f\"data/test/proc/cufed5/{i:03}/__bicub/*.png\", transform),\n",
    "            \"edsr\": U.data.ImageDataset(f\"data/test/proc/cufed5/{i:03}/__edsr/*.png\", transform),\n",
    "            \"srgan\": U.data.ImageDataset(f\"data/test/proc/cufed5/{i:03}/__srgan/*.png\", transform),\n",
    "        }\n",
    "\n",
    "        for model_name in models:\n",
    "            print(\"model_name\", model_name)\n",
    "            model_outputs = models[model_name]\n",
    "            \n",
    "            \n",
    "            print(\"base_model\")\n",
    "            for idx in range(len(model_outputs)):\n",
    "                x = model_outputs[idx]\n",
    "                y = hrlist[idx]\n",
    "\n",
    "                x, y = x / 255, y / 255\n",
    "                base_psnr = M.pytorch_psnr(x, y).item()\n",
    "                base_ssim = M.pytorch_ssim(x, y).item()\n",
    "\n",
    "                base_psnr_data[model_name][sim_level - 1].append(base_psnr)\n",
    "                base_ssim_data[model_name][sim_level - 1].append(base_ssim)\n",
    "                \n",
    "\n",
    "            for idx in range(len(model_outputs)):\n",
    "                \n",
    "                print(f\"improved_model #{idx+1}/{len(model_outputs)}\")\n",
    "                x = model_outputs[idx]\n",
    "                y = method.upscale_with_ref(\n",
    "                    x=x,\n",
    "                    refs=reflist)\n",
    "                \n",
    "                fpath = f\"data/test/proc/cufed5/{i:03}/__{model_name}_ours/big/{idx:03}.png\"\n",
    "                try:\n",
    "                    os.makedirs(os.path.dirname(fpath))\n",
    "                except:\n",
    "                    pass\n",
    "                TF.to_pil_image(y.squeeze(0).cpu() / 255).save(fpath)\n",
    "\n",
    "                y_small = F.interpolate(y, scale_factor=0.25, mode=\"bicubic\", align_corners=True)\n",
    "                y2 = hrlist[idx]\n",
    "                \n",
    "                fpath = f\"data/test/proc/cufed5/{i:03}/__{model_name}_ours/small/{idx:03}.png\"\n",
    "                try:\n",
    "                    os.makedirs(os.path.dirname(fpath))\n",
    "                except:\n",
    "                    pass\n",
    "                TF.to_pil_image(y_small.squeeze(0).cpu() / 255).save(fpath)\n",
    "\n",
    "                y_small, y2 = y_small / 255, y2 / 255\n",
    "                psnr = M.pytorch_psnr(y_small, y2).item()\n",
    "                ssim = M.pytorch_ssim(y_small, y2).item()\n",
    "                \n",
    "                base_psnr_data[model_name][sim_level - 1].append(psnr)\n",
    "                base_ssim_data[model_name][sim_level - 1].append(ssim)\n",
    "\n",
    "import json\n",
    "with open('ssim_data.json', 'w') as f:\n",
    "    json.dump(ssim_data, f)\n",
    "with open('psnr_data.json', 'w') as f:\n",
    "    json.dump(ssim_data, f)\n",
    "with open('base_ssim_data.json', 'w') as f:\n",
    "    json.dump(ssim_data, f)\n",
    "with open('base_psnr_data.json', 'w') as f:\n",
    "    json.dump(ssim_data, f)"
   ]
  },
  {
   "cell_type": "code",
   "execution_count": null,
   "metadata": {},
   "outputs": [],
   "source": []
  }
 ],
 "metadata": {
  "kernelspec": {
   "display_name": "Python 3",
   "language": "python",
   "name": "python3"
  },
  "language_info": {
   "codemirror_mode": {
    "name": "ipython",
    "version": 3
   },
   "file_extension": ".py",
   "mimetype": "text/x-python",
   "name": "python",
   "nbconvert_exporter": "python",
   "pygments_lexer": "ipython3",
   "version": "3.6.8"
  },
  "varInspector": {
   "cols": {
    "lenName": 16,
    "lenType": 16,
    "lenVar": 40
   },
   "kernels_config": {
    "python": {
     "delete_cmd_postfix": "",
     "delete_cmd_prefix": "del ",
     "library": "var_list.py",
     "varRefreshCmd": "print(var_dic_list())"
    },
    "r": {
     "delete_cmd_postfix": ") ",
     "delete_cmd_prefix": "rm(",
     "library": "var_list.r",
     "varRefreshCmd": "cat(var_dic_list()) "
    }
   },
   "types_to_exclude": [
    "module",
    "function",
    "builtin_function_or_method",
    "instance",
    "_Feature"
   ],
   "window_display": false
  }
 },
 "nbformat": 4,
 "nbformat_minor": 2
}
